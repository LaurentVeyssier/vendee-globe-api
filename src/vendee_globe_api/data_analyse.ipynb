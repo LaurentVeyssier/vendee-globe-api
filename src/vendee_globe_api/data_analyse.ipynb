{
 "cells": [
  {
   "cell_type": "code",
   "execution_count": 2,
   "metadata": {},
   "outputs": [],
   "source": [
    "import pandas as pd\n",
    "import constants as c\n",
    "from utils import data_prep_web"
   ]
  },
  {
   "cell_type": "code",
   "execution_count": null,
   "metadata": {},
   "outputs": [],
   "source": [
    "df_race = pd.read_parquet(c.race_2024_path)\n",
    "df_web = pd.read_parquet(c.web_2024_path)\n",
    "df_wiki = pd.read_parquet(c.wiki_2024_path)"
   ]
  },
  {
   "cell_type": "code",
   "execution_count": 3,
   "metadata": {},
   "outputs": [],
   "source": [
    "df_web = data_prep_web(df_web, skipper_corrections=[('Kojiro Shiraishi', 'Kōjirō Shiraishi')])"
   ]
  },
  {
   "cell_type": "code",
   "execution_count": 4,
   "metadata": {},
   "outputs": [],
   "source": [
    "df = pd.merge(df_race, df_web, on=\"skipper\", how=\"left\")\n",
    "df = pd.merge(df, df_wiki, on=\"skipper\", how=\"left\")"
   ]
  },
  {
   "cell_type": "code",
   "execution_count": 26,
   "metadata": {},
   "outputs": [],
   "source": [
    "# Séparer les colonnes dynamiques et statiques\n",
    "dynamic_cols = [\n",
    "    \"rang\", \"heure\", \"latitude\", \"longitude\", \"cap_30min\", \"vitesse_30min\", \"VMG_30min\", \"distance_30min\",\n",
    "    \"cap_last\", \"vitesse_last\", \"VMG_last\", \"distance_last\", \"cap_24h\", \"vitesse_24h\", \"VMG_24h\", \"distance_24h\",\n",
    "    \"DTF\", \"DTL\", \"date\"\n",
    "]\n",
    "\n",
    "static_cols = [col for col in df.columns if col not in dynamic_cols]\n",
    "\n",
    "df_race = df[dynamic_cols].copy()\n",
    "df_infos = df[static_cols].copy()\n",
    "\n",
    "# Dictionnaire de renommage des colonnes en anglais\n",
    "rename_dict = {\n",
    "    \"rang\": \"rank\", \"heure\": \"time\", \"latitude\": \"latitude\", \"longitude\": \"longitude\",\n",
    "    \"cap_30min\": \"heading_30min\", \"vitesse_30min\": \"speed_30min\", \"VMG_30min\": \"vmg_30min\", \"distance_30min\": \"distance_30min\",\n",
    "    \"cap_last\": \"heading_last\", \"vitesse_last\": \"speed_last\", \"VMG_last\": \"vmg_last\", \"distance_last\": \"distance_last\",\n",
    "    \"cap_24h\": \"heading_24h\", \"vitesse_24h\": \"speed_24h\", \"VMG_24h\": \"vmg_24h\", \"distance_24h\": \"distance_24h\",\n",
    "    \"DTF\": \"distance_to_finish\", \"DTL\": \"distance_to_leader\", \"date\": \"date\",\n",
    "    \"skipper\": \"skipper\", \"voilier\": \"boat_name\", \"nat_voile\": \"boat_nationality\", \"color\": \"boat_color\",\n",
    "    \"first_name_x\": \"skipper_first_name\", \"last_name_x\": \"skipper_last_name\", \"team_x\": \"team\",\n",
    "    \"Anciens noms du bateau_x\": \"previous_boat_names\", \"Architecte_x\": \"boat_architect\", \"Chantier_x\": \"boat_shipyard\",\n",
    "    \"Date de lancement_x\": \"launch_date\", \"Longueur_x\": \"boat_length\", \"Largeur_x\": \"boat_width\", \"Tirant d'eau_x\": \"boat_draft\",\n",
    "    \"Hauteur mât_x\": \"mast_height\", \"Surface de voiles au près_x\": \"sail_area_upwind\", \"Surface de voiles au portant_x\": \"sail_area_downwind\",\n",
    "    \"Poids_x\": \"boat_weight\", \"Ancien nom du bateau_x\": \"previous_boat_name\", \"Déplacement (poids)_x\": \"displacement_weight\",\n",
    "    \"genre_x\": \"skipper_gender\", \"nationalité_x\": \"skipper_nationality\", \"age_x\": \"skipper_age\", \"participations_x\": \"race_participations\",\n",
    "    \"appendices_x\": \"boat_appendices\", \"architecte_x\": \"boat_architect\", \"chantier_x\": \"boat_shipyard\", \"annee_x\": \"boat_year\", \"foil\": \"has_foil\"\n",
    "}\n",
    "\n",
    "# Appliquer le renommage\n",
    "df_race.rename(columns=rename_dict, inplace=True)\n",
    "df_infos.rename(columns=rename_dict, inplace=True)\n",
    "\n",
    "# Fusionner les colonnes en double (versions _x et _y)\n",
    "cols_x = [col for col in df_infos.columns if col.endswith('_x')]\n",
    "for col in cols_x:\n",
    "    col_y = col.replace('_x', '_y')\n",
    "    if col_y in df_infos.columns:\n",
    "        df_infos[col] = df_infos[col].combine_first(df_infos[col_y])\n",
    "        df_infos.drop(columns=[col_y], inplace=True)\n",
    "    df_infos.rename(columns={col: col.replace('_x', '')}, inplace=True)\n",
    "\n",
    "df_infos.columns = [col.replace(\"_y\", \"\") for col in df_infos.columns]\n",
    "df_infos.drop_duplicates(inplace=True)\n",
    "\n",
    "df_race = df_race.sort_values(by=\"date\")  # Trier par date pour garantir l'ordre correct\n",
    "df_race[\"batch\"] = df_race[\"date\"].ne(df_race[\"date\"].shift()).cumsum() - 1\n"
   ]
  }
 ],
 "metadata": {
  "kernelspec": {
   "display_name": ".venv",
   "language": "python",
   "name": "python3"
  },
  "language_info": {
   "codemirror_mode": {
    "name": "ipython",
    "version": 3
   },
   "file_extension": ".py",
   "mimetype": "text/x-python",
   "name": "python",
   "nbconvert_exporter": "python",
   "pygments_lexer": "ipython3",
   "version": "3.11.10"
  }
 },
 "nbformat": 4,
 "nbformat_minor": 2
}
